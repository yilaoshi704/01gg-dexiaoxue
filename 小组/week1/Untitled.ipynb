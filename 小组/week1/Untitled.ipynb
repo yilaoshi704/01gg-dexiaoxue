{
 "cells": [
  {
   "cell_type": "code",
   "execution_count": 2,
   "id": "e8f998c1",
   "metadata": {},
   "outputs": [],
   "source": [
    "import pandas as pd\n",
    "import numpy as np\n",
    "\n",
    "data = pd.read_csv(\"Video_Games_Sales_as_at_22_Dec_2016.csv\", sep=',')"
   ]
  },
  {
   "cell_type": "code",
   "execution_count": 3,
   "id": "93b46009",
   "metadata": {},
   "outputs": [
    {
     "name": "stdout",
     "output_type": "stream",
     "text": [
      "    0   1   2   3\n",
      "第一  1   2   3   4\n",
      "第二  5   6   7   8\n",
      "第三  9  10  11  12\n"
     ]
    }
   ],
   "source": [
    "data1 = [[1, 2, 3, 4], [5, 6, 7, 8],[9, 10, 11, 12]]\n",
    "df = pd.DataFrame(data1, index=[\"第一\", \"第二\", \"第三\"])\n",
    "print(df)"
   ]
  },
  {
   "cell_type": "code",
   "execution_count": 4,
   "id": "544998e8",
   "metadata": {},
   "outputs": [
    {
     "name": "stdout",
     "output_type": "stream",
     "text": [
      "    0   1\n",
      "第一  1   2\n",
      "第二  5   6\n",
      "第三  9  10\n"
     ]
    }
   ],
   "source": [
    "print(df.iloc[:3, 0:2])"
   ]
  },
  {
   "cell_type": "code",
   "execution_count": 5,
   "id": "a6890ad4",
   "metadata": {},
   "outputs": [
    {
     "name": "stdout",
     "output_type": "stream",
     "text": [
      "    0   1   2   3\n",
      "第一  1   2   3   4\n",
      "第二  5   6   7   8\n",
      "第三  9  10  11  12\n"
     ]
    },
    {
     "data": {
      "text/plain": [
       "第一     2.5\n",
       "第二     6.5\n",
       "第三    10.5\n",
       "dtype: float64"
      ]
     },
     "execution_count": 5,
     "metadata": {},
     "output_type": "execute_result"
    }
   ],
   "source": [
    "print(df)\n",
    "np.mean(df, axis=1)"
   ]
  },
  {
   "cell_type": "code",
   "execution_count": 6,
   "id": "8061f3b0",
   "metadata": {},
   "outputs": [
    {
     "name": "stdout",
     "output_type": "stream",
     "text": [
      "[[ 0.2         0.         -0.2       ]\n",
      " [-0.2         1.          0.2       ]\n",
      " [ 0.2        -0.66666667  0.13333333]]\n"
     ]
    }
   ],
   "source": [
    "a = np.array([[4, 2, 3],[1, 1, 0], [-1, 2, 3]])\n",
    "print(np.linalg.inv(a))"
   ]
  },
  {
   "cell_type": "code",
   "execution_count": null,
   "id": "7cef730f",
   "metadata": {},
   "outputs": [],
   "source": []
  }
 ],
 "metadata": {
  "kernelspec": {
   "display_name": "Python 3 (ipykernel)",
   "language": "python",
   "name": "python3"
  },
  "language_info": {
   "codemirror_mode": {
    "name": "ipython",
    "version": 3
   },
   "file_extension": ".py",
   "mimetype": "text/x-python",
   "name": "python",
   "nbconvert_exporter": "python",
   "pygments_lexer": "ipython3",
   "version": "3.11.5"
  }
 },
 "nbformat": 4,
 "nbformat_minor": 5
}
