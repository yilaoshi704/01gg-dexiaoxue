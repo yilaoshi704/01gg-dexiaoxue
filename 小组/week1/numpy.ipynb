{
 "cells": [
  {
   "cell_type": "code",
   "execution_count": 1,
   "id": "c8204f0c",
   "metadata": {},
   "outputs": [],
   "source": [
    "import matplotlib.pyplot as plt\n",
    "import pandas as pd\n",
    "import numpy as np\n",
    "import warnings\n",
    "\n",
    "warnings.filterwarnings('ignore')\n",
    "# 汉化字体\n",
    "import matplotlib\n",
    "\n",
    "matplotlib.rc(\"font\", family='DengXian')\n",
    "%matplotlib inline"
   ]
  },
  {
   "cell_type": "code",
   "execution_count": 8,
   "id": "d575542d",
   "metadata": {},
   "outputs": [
    {
     "name": "stdout",
     "output_type": "stream",
     "text": [
      "[[1 1 4]\n",
      " [4 1 9]]\n"
     ]
    }
   ],
   "source": [
    "a = np.array([[1, 1, 2], [2, 1, 3]])\n",
    "print(a ** 2)"
   ]
  },
  {
   "cell_type": "code",
   "execution_count": 18,
   "id": "0ddf10d7",
   "metadata": {
    "scrolled": true
   },
   "outputs": [
    {
     "name": "stdout",
     "output_type": "stream",
     "text": [
      "[   2.    4.    8.   16.   32.   64.  128.  256.  512. 1024.]\n",
      "[[1. 0. 0.]\n",
      " [0. 1. 0.]\n",
      " [0. 0. 1.]]\n"
     ]
    }
   ],
   "source": [
    "print(np.logspace(1, 10, 10, base = 2))\n",
    "print(np.eye(3))"
   ]
  },
  {
   "cell_type": "code",
   "execution_count": 20,
   "id": "a1cfd7fc",
   "metadata": {},
   "outputs": [
    {
     "name": "stdout",
     "output_type": "stream",
     "text": [
      "[0.12170319 0.79554487 0.38126942 0.55311609 0.89902373]\n",
      "[[0.65466487 0.15685035 0.78732565 0.20349682]\n",
      " [0.87549952 0.31317385 0.14424446 0.14174676]\n",
      " [0.85020027 0.93780302 0.13839086 0.19044355]]\n"
     ]
    }
   ],
   "source": [
    "print(np.random.random(5)) # 无约束随机值\n",
    "print(np.random.rand(3, 4)) #均匀分布"
   ]
  },
  {
   "cell_type": "code",
   "execution_count": 21,
   "id": "41470aaa",
   "metadata": {},
   "outputs": [
    {
     "name": "stdout",
     "output_type": "stream",
     "text": [
      "[3 5]\n"
     ]
    }
   ],
   "source": [
    "arr = np.array([1, 3, 5])\n",
    "index = arr > 2\n",
    "print(arr[index])"
   ]
  },
  {
   "cell_type": "code",
   "execution_count": null,
   "id": "c3ed8a80",
   "metadata": {},
   "outputs": [],
   "source": []
  }
 ],
 "metadata": {
  "kernelspec": {
   "display_name": "Python 3 (ipykernel)",
   "language": "python",
   "name": "python3"
  },
  "language_info": {
   "codemirror_mode": {
    "name": "ipython",
    "version": 3
   },
   "file_extension": ".py",
   "mimetype": "text/x-python",
   "name": "python",
   "nbconvert_exporter": "python",
   "pygments_lexer": "ipython3",
   "version": "3.11.5"
  }
 },
 "nbformat": 4,
 "nbformat_minor": 5
}
