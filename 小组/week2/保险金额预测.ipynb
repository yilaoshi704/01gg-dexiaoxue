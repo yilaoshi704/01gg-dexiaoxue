{
 "cells": [
  {
   "cell_type": "code",
   "execution_count": 7,
   "id": "dff4dc94",
   "metadata": {},
   "outputs": [],
   "source": [
    "import numpy as np\n",
    "import pandas as pd\n",
    "import matplotlib.pyplot as plt\n",
    "import matplotlib\n",
    "# 汉化字体\n",
    "matplotlib.rc(\"font\", family='DengXian')\n",
    "%matplotlib inline\n"
   ]
  },
  {
   "cell_type": "code",
   "execution_count": 33,
   "id": "a3395f9c",
   "metadata": {},
   "outputs": [
    {
     "name": "stdout",
     "output_type": "stream",
     "text": [
      "   age  sex     bmi  children  smoker      charges  region_northeast  \\\n",
      "0   19    0  27.900         0       1  16884.92400                 0   \n",
      "1   18    1  33.770         1       0   1725.55230                 0   \n",
      "2   28    1  33.000         3       0   4449.46200                 0   \n",
      "3   33    1  22.705         0       0  21984.47061                 0   \n",
      "4   32    1  28.880         0       0   3866.85520                 0   \n",
      "\n",
      "   region_northwest  region_southeast  region_southwest  \n",
      "0                 0                 0                 1  \n",
      "1                 0                 1                 0  \n",
      "2                 0                 1                 0  \n",
      "3                 1                 0                 0  \n",
      "4                 1                 0                 0  \n"
     ]
    }
   ],
   "source": [
    "\n",
    "def load_csv():\n",
    "    data = pd.read_csv(\"insurance.csv\")\n",
    "    \n",
    "    # 将'sex'列中的'female'改为0，'male'改为1\n",
    "    data['sex'] = data['sex'].map({'female': 0, 'male': 1})\n",
    "    \n",
    "    # 将'smoker'列中的'yes'改为1，'no'改为0\n",
    "    data['smoker'] = data['smoker'].map({'yes': 1, 'no': 0})\n",
    "    \n",
    "    # 将'region'列独热编码\n",
    "    data = pd.get_dummies(data, columns=['region'], prefix='region')\n",
    "    \n",
    "    data[['region_northeast', 'region_northwest', 'region_southeast', 'region_southwest']] = (data[['region_northeast', 'region_northwest', 'region_southeast', 'region_southwest']] > 0).astype(int)\n",
    "    \n",
    "    print(data.head(5))\n",
    "    return data\n",
    "\n",
    "# 归一化数据\n",
    "def custom_normalize_data(data):\n",
    "    normalized_data = (data - data.min()) / (data.max() - data.min())\n",
    "    return normalized_data\n",
    "\n",
    "class Network(object):\n",
    "    def __init__(self, num_of_weights, lambda_reg=1):\n",
    "        np.random.seed(0)\n",
    "        self.w = np.random.randn(num_of_weights, 1)\n",
    "        self.b = 0.\n",
    "        self.lambda_reg = lambda_reg  # 正则化参数\n",
    "\n",
    "    def forward(self, x):\n",
    "        z = np.dot(x, self.w) + self.b\n",
    "        return z\n",
    "\n",
    "    def loss(self, z, y):\n",
    "        cost = np.mean((z - y) ** 2)\n",
    "        return cost\n",
    "\n",
    "    def loss_with_reg(self, z, y):\n",
    "        cost = np.mean((z - y) ** 2)\n",
    "        # 计算 L2 正则化项\n",
    "        reg = 0.5 * self.lambda_reg * np.sum(self.w ** 2)\n",
    "        return cost + reg\n",
    "\n",
    "    def gradient(self, x, y):\n",
    "        z = self.forward(x)\n",
    "        error = z - y\n",
    "        gradient_w = (np.dot(x.T, error) + self.lambda_reg * self.w) / x.shape[0]  # 添加正则化项的梯度\n",
    "        gradient_b = np.mean(error)\n",
    "        return gradient_w, gradient_b\n",
    "    \n",
    "    def update(self, gradient_w, gradient_b, eta=0.01):\n",
    "        self.w -= eta * gradient_w\n",
    "        self.b -= eta * gradient_b\n",
    "        \n",
    "    def train_with_normal_equation(self, x, y):\n",
    "        # 添加偏置项列\n",
    "        X_b = np.c_[np.ones((x.shape[0], 1)), x]\n",
    "        # 使用最小二乘法计算参数估计值\n",
    "        theta = np.dot(np.dot(np.linalg.inv(np.dot(X_b.T, X_b)), X_b.T), y)\n",
    "        self.b = theta[0]\n",
    "        self.w = theta[1:]\n",
    "        \n",
    "    def print_model_info(self):\n",
    "        print(\"Weights (w):\")\n",
    "        print(self.w)\n",
    "        print(\"Bias (b):\")\n",
    "        print(self.b)\n",
    "        \n",
    "    def r_squared(self, x, y):\n",
    "        z = self.forward(x)\n",
    "        SS_res = np.sum((z - y) ** 2)  # 残差平方和\n",
    "        SS_tot = np.sum((y - np.mean(y)) ** 2)  # 总平方和\n",
    "        r2 = 1 - SS_res / SS_tot\n",
    "        return r2\n",
    "\n",
    "    def train(self, x, y, iterations=100, eta=0.01, lambda_reg=1):\n",
    "        losses = []\n",
    "        for i in range(iterations):\n",
    "            z = self.forward(x)\n",
    "            L = self.loss(z, y)\n",
    "            gradient_w, gradient_b = self.gradient(x, y)\n",
    "            self.update(gradient_w, gradient_b, eta)\n",
    "            losses.append(L)\n",
    "            if (i + 1) % 1000 == 0:\n",
    "                print('iter {}, loss {}'.format(i, L))\n",
    "                r2_test = self.r_squared(x, y)\n",
    "                print('R方: {}'.format(r2_test))\n",
    "        print(self.w,self.b)\n",
    "        return losses, self.w, self.b\n",
    "\n",
    "data = load_csv()"
   ]
  },
  {
   "cell_type": "code",
   "execution_count": 34,
   "id": "ad712cb9",
   "metadata": {
    "scrolled": true
   },
   "outputs": [],
   "source": [
    "data = custom_normalize_data(data)\n",
    "x = data.iloc[:, :-1].values\n",
    "y = data.iloc[:, -1].values.reshape(-1, 1)"
   ]
  },
  {
   "cell_type": "code",
   "execution_count": 50,
   "id": "7a82ce95",
   "metadata": {},
   "outputs": [
    {
     "name": "stdout",
     "output_type": "stream",
     "text": [
      "iter 999, loss 0.22472394163458775\n",
      "R方: -0.2205711745206569\n",
      "iter 1999, loss 0.10275358614318394\n",
      "R方: 0.4417800571369317\n",
      "iter 2999, loss 0.05527684066139988\n",
      "R方: 0.6996590903671944\n",
      "iter 3999, loss 0.03422095051087999\n",
      "R方: 0.814039375431405\n",
      "iter 4999, loss 0.02383067860374533\n",
      "R方: 0.8704883547857594\n",
      "iter 5999, loss 0.01800360630474719\n",
      "R方: 0.9021502834717572\n",
      "iter 6999, loss 0.014287513207472066\n",
      "R方: 0.9223444259791748\n",
      "iter 7999, loss 0.011657535399794906\n",
      "R方: 0.9366376064289643\n",
      "iter 8999, loss 0.00965954025564489\n",
      "R方: 0.9474967431004255\n",
      "iter 9999, loss 0.008074639097678318\n",
      "R方: 0.9561109883143766\n",
      "[[ 1.81345792e-01]\n",
      " [-7.98733532e-04]\n",
      " [ 3.48446420e-01]\n",
      " [ 5.27073888e-02]\n",
      " [ 3.44593194e-01]\n",
      " [-8.66104564e-01]\n",
      " [-9.41496804e-01]\n",
      " [-9.46119466e-01]\n",
      " [-9.78054281e-01]] 0.8276323739713595\n"
     ]
    }
   ],
   "source": [
    "offset = int(x.shape[0] * 0.8)\n",
    "x_train, x_test = x[:offset], x[offset:]\n",
    "y_train, y_test = y[:offset], y[offset:]\n",
    "\n",
    "net = Network(x_train.shape[1], lambda_reg=1)\n",
    "num_iterations = 10000\n",
    "losses, fw, fb= net.train(x_train, y_train, iterations=num_iterations, eta=0.01)"
   ]
  },
  {
   "cell_type": "code",
   "execution_count": 51,
   "id": "bd33c0cd",
   "metadata": {},
   "outputs": [
    {
     "data": {
      "text/plain": [
       "Text(0.5, 1.0, '损失率变化图')"
      ]
     },
     "execution_count": 51,
     "metadata": {},
     "output_type": "execute_result"
    },
    {
     "data": {
      "image/png": "[encoded data removed]",
      "text/plain": [
       "<Figure size 800x800 with 1 Axes>"
      ]
     },
     "metadata": {},
     "output_type": "display_data"
    }
   ],
   "source": [
    "matplotlib.rc(\"font\", family='DengXian')\n",
    "plt.figure(figsize=(8, 8), num=\"损失函数\")\n",
    "plot_x = np.arange(num_iterations)\n",
    "plot_y = np.array(losses)\n",
    "plt.plot(plot_x, plot_y)\n",
    "plt.ylabel(\"损失率\", fontsize=15)\n",
    "plt.title(\"损失率变化图\", fontsize=25)"
   ]
  },
  {
   "cell_type": "code",
   "execution_count": 52,
   "id": "934bea22",
   "metadata": {},
   "outputs": [
    {
     "name": "stdout",
     "output_type": "stream",
     "text": [
      "测试集损失: 0.008373309473957332\n"
     ]
    }
   ],
   "source": [
    "# 在测试集上验证模型性能\n",
    "predictions_test = np.dot(x_test, fw) + fb\n",
    "test_loss = np.mean((predictions_test - y_test) ** 2)\n",
    "\n",
    "print('测试集损失:', test_loss)"
   ]
  },
  {
   "cell_type": "code",
   "execution_count": 53,
   "id": "9f956e85",
   "metadata": {},
   "outputs": [
    {
     "name": "stdout",
     "output_type": "stream",
     "text": [
      "Weights (w):\n",
      "[[-3.44212506e-15]\n",
      " [ 1.80411242e-16]\n",
      " [-1.95329863e-14]\n",
      " [-1.07726328e-14]\n",
      " [-7.28236915e-15]\n",
      " [ 1.88564442e-14]\n",
      " [-1.00000000e+00]\n",
      " [-1.00000000e+00]\n",
      " [-1.00000000e+00]]\n",
      "Bias (b):\n",
      "[1.]\n"
     ]
    }
   ],
   "source": [
    "net.train_with_normal_equation(x_train, y_train)\n",
    "net.print_model_info()"
   ]
  },
  {
   "cell_type": "code",
   "execution_count": 54,
   "id": "aeae4c64",
   "metadata": {},
   "outputs": [
    {
     "data": {
      "text/plain": [
       "1.0"
      ]
     },
     "execution_count": 54,
     "metadata": {},
     "output_type": "execute_result"
    }
   ],
   "source": [
    "net.r_squared(x_test, y_test)"
   ]
  }
 ],
 "metadata": {
  "kernelspec": {
   "display_name": "Python 3 (ipykernel)",
   "language": "python",
   "name": "python3"
  },
  "language_info": {
   "codemirror_mode": {
    "name": "ipython",
    "version": 3
   },
   "file_extension": ".py",
   "mimetype": "text/x-python",
   "name": "python",
   "nbconvert_exporter": "python",
   "pygments_lexer": "ipython3",
   "version": "3.11.5"
  }
 },
 "nbformat": 4,
 "nbformat_minor": 5
}
