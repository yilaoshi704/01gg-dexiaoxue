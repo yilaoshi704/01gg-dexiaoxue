{
 "cells": [
  {
   "cell_type": "markdown",
   "id": "57371842",
   "metadata": {},
   "source": [
    "# 构建线性回归模型\n",
    "\n",
    "### 必要的头文件"
   ]
  },
  {
   "cell_type": "code",
   "execution_count": 1,
   "id": "efd042a7",
   "metadata": {},
   "outputs": [],
   "source": [
    "import numpy as np\n",
    "import pandas as pd\n",
    "import matplotlib.pyplot as plt\n",
    "import matplotlib\n",
    "import seaborn as sns # 查看代码相关性\n",
    "sns.set()    #设置画图空间为 Seaborn 默认风格\n",
    "# 汉化字体\n",
    "matplotlib.rc(\"font\", family='DengXian')"
   ]
  },
  {
   "cell_type": "markdown",
   "id": "0b632ea0",
   "metadata": {},
   "source": [
    "### 加载数据集"
   ]
  },
  {
   "cell_type": "code",
   "execution_count": null,
   "id": "e8453efc",
   "metadata": {},
   "outputs": [],
   "source": [
    "def load_csv():\n",
    "    data = pd.read_csv(\"boston.csv\")\n",
    "    print(data.head(5))\n",
    "    return data\n",
    "\n",
    "data = load_csv()"
   ]
  },
  {
   "cell_type": "markdown",
   "id": "c2949150",
   "metadata": {},
   "source": [
    "### 查看代码相关性，使用seaborn热力图"
   ]
  },
  {
   "cell_type": "code",
   "execution_count": null,
   "id": "9809175f",
   "metadata": {},
   "outputs": [],
   "source": [
    "corrboston = data.corr()\n",
    "plt.figure(figsize=(10,10))    #设置画布\n",
    "sns.heatmap(corrboston,annot=True,cmap='RdGy')\n",
    "plt.show()"
   ]
  },
  {
   "cell_type": "markdown",
   "id": "c918e930",
   "metadata": {},
   "source": [
    "### 数据预处理\n",
    "- 查看缺失值"
   ]
  },
  {
   "cell_type": "code",
   "execution_count": null,
   "id": "d0500a2b",
   "metadata": {},
   "outputs": [],
   "source": [
    "data.info()"
   ]
  },
  {
   "cell_type": "markdown",
   "id": "6b61dd93",
   "metadata": {},
   "source": [
    "- 重复值"
   ]
  },
  {
   "cell_type": "code",
   "execution_count": null,
   "id": "3532f855",
   "metadata": {},
   "outputs": [],
   "source": [
    "data.drop_duplicates(subset=['name'], keep='first', inplace=True)"
   ]
  },
  {
   "cell_type": "markdown",
   "id": "db3f17ec",
   "metadata": {},
   "source": [
    "- 离群值"
   ]
  },
  {
   "cell_type": "code",
   "execution_count": null,
   "id": "53426088",
   "metadata": {},
   "outputs": [],
   "source": [
    "# 箱线图方法\n",
    "# 使用箱线图的上下边界来判断异常值。\n",
    "def remove_outliers_std(data, col):\n",
    "    Q1 = data[col].quantile(0.25)\n",
    "    Q3 = data[col].quantile(0.75)\n",
    "    IQR = Q3 - Q1\n",
    "    lower_bound = Q1 - 1.5 * IQR\n",
    "    upper_bound = Q3 + 1.5 * IQR\n",
    "    data = data[(data[col] >= lower_bound) & (data[col] <= upper_bound)]\n",
    "    return data\n",
    "\n",
    "# 标准差方法\n",
    "# 根据数据的均值和标准差，将与均值相差超过几倍标准差的值视为异常值。\n",
    "def remove_outliers_std(data, col, threshold=3):\n",
    "    mean = data[col].mean()\n",
    "    std = data[col].std()\n",
    "    lower_bound = mean - threshold * std\n",
    "    upper_bound = mean + threshold * std\n",
    "    data = data[(data[col] >= lower_bound) & (data[col] <= upper_bound)]\n",
    "    return data\n",
    "\n",
    "# Z-score 方法\n",
    "# 根据标准化后的数值来判断异常值，Z-score 超过一定阈值则被视为异常值。\n",
    "def remove_outliers_zscore(data, col, threshold=3):\n",
    "    z_scores = (data[col] - data[col].mean()) / data[col].std()\n",
    "    data = data[abs(z_scores) < threshold]\n",
    "    return data"
   ]
  },
  {
   "cell_type": "markdown",
   "id": "2ef78831",
   "metadata": {},
   "source": [
    "### 归一化"
   ]
  },
  {
   "cell_type": "code",
   "execution_count": 4,
   "id": "c9831de7",
   "metadata": {},
   "outputs": [],
   "source": [
    "# 最大最小z—score\n",
    "def z_score_normalize_data(data, target_cols):\n",
    "    for col in target_cols:\n",
    "        col_min = data[col].min()\n",
    "        col_max = data[col].max()\n",
    "        data[col] = (data[col] - col_min) / (col_max - col_min)\n",
    "    return data\n",
    "\n",
    "# 标准化，适用标准差\n",
    "def standardize_data(data, target_cols):\n",
    "    for col in target_cols:\n",
    "        mean = data[col].mean()\n",
    "        std = data[col].std()\n",
    "        data[col] = (data[col] - mean) / std\n",
    "    return data\n",
    "\n",
    "# 小数定标标准化\n",
    "def decimal_scaling_normalize_data(data, target_cols):\n",
    "    for col in target_cols:\n",
    "        max_val = data[col].abs().max()\n",
    "        data[col] = data[col] / 10**len(str(int(max_val)))\n",
    "    return data\n",
    "\n",
    "# 零均值归一化\n",
    "# 零均值归一化是将数据转换为均值为0的分布，适用于处理不带明显上下界的数据集。\n",
    "def zero_mean_normalize_data(data, target_cols):\n",
    "    for col in target_cols:\n",
    "        mean = data[col].mean()\n",
    "        data[col] = data[col] - mean\n",
    "    return data"
   ]
  },
  {
   "cell_type": "markdown",
   "id": "5830e472",
   "metadata": {},
   "source": [
    "代码执行"
   ]
  },
  {
   "cell_type": "code",
   "execution_count": null,
   "id": "adeca5c1",
   "metadata": {},
   "outputs": [],
   "source": [
    "columns_to_process = ['CRIM', 'ZN', 'INDUS', 'RM', 'AGE', 'DIS', 'RAD', 'TAX', 'PIRATIO', 'B', 'LSTAT']\n",
    "for col in columns_to_process:\n",
    "    data = remove_outliers_std(data, col)\n",
    "target_cols = ['ZN', 'INDUS', 'RM', 'AGE', 'DIS', 'RAD', 'TAX', 'PIRATIO', 'B', 'LSTAT']\n",
    "data = z_score_normalize_data(data, target_cols)"
   ]
  },
  {
   "cell_type": "markdown",
   "id": "2aae91d7",
   "metadata": {},
   "source": [
    "### 数据集划分7:3或8:2"
   ]
  },
  {
   "cell_type": "code",
   "execution_count": null,
   "id": "3f7aa066",
   "metadata": {},
   "outputs": [],
   "source": [
    "# 特征和标签分开\n",
    "x = data.iloc[:, :-1].values\n",
    "y = data.iloc[:, -1].values.reshape(-1, 1)\n",
    "# 划分训练集和测试集\n",
    "offset = int(x.shape[0] * 0.7)\n",
    "x_train, x_test = x[:offset], x[offset:]\n",
    "y_train, y_test = y[:offset], y[offset:]"
   ]
  },
  {
   "cell_type": "markdown",
   "id": "14deb0dc",
   "metadata": {},
   "source": [
    "### 两种方法训练模型"
   ]
  },
  {
   "cell_type": "markdown",
   "id": "988f1f44",
   "metadata": {},
   "source": [
    "- 最小二乘法"
   ]
  },
  {
   "cell_type": "code",
   "execution_count": null,
   "id": "1fa28621",
   "metadata": {},
   "outputs": [],
   "source": [
    "# 采用正规方程来直接得出参数\n",
    "def train_with_normal_equation(self, x, y):\n",
    "    # 添加偏置项列\n",
    "    X_b = np.c_[np.ones((x.shape[0], 1)), x]\n",
    "    # 使用最小二乘法计算参数估计值\n",
    "    theta = np.dot(np.dot(np.linalg.inv(np.dot(X_b.T, X_b)), X_b.T), y)\n",
    "    self.b = theta[0]\n",
    "    self.w = theta[1:]\n",
    "\n",
    "def print_model_info(self):\n",
    "     print(\"Weights (w):\")\n",
    "     print(self.w)\n",
    "     print(\"Bias (b):\")\n",
    "     print(self.b)"
   ]
  },
  {
   "cell_type": "markdown",
   "id": "77494beb",
   "metadata": {},
   "source": [
    "- 梯度下降法，结合成本函数（损失函数），正则化等"
   ]
  },
  {
   "cell_type": "code",
   "execution_count": null,
   "id": "0f435a37",
   "metadata": {},
   "outputs": [],
   "source": [
    "# 通过设置学习率，计算偏导数不断更新参数\n",
    "class Network(object):\n",
    "    # 初始化ωc参数，\n",
    "    def __init__(self, num_of_weights, lambda_reg=1):\n",
    "        np.random.seed(0)\n",
    "        self.w = -2 * np.random.randn(num_of_weights, 1)\n",
    "        self.b = 0.\n",
    "        self.lambda_reg = lambda_reg  # 正则化参数\n",
    "\n",
    "    # 计算预测值\n",
    "    def forward(self, x):\n",
    "        z = np.dot(x, self.w) + self.b\n",
    "        return z\n",
    "\n",
    "    # 成本函数\n",
    "    def loss(self, z, y):\n",
    "        cost = np.mean((z - y) ** 2)\n",
    "        return cost\n",
    "\n",
    "    # 正则化成本函数——稍后补充\n",
    "    def loss_with_reg(self, z, y):\n",
    "        cost = np.mean((z - y) ** 2)\n",
    "        # 计算 L1 正则化项\n",
    "        reg = self.lambda_reg * np.sum(np.abs(self.w))\n",
    "        return cost + reg\n",
    "\n",
    "    # 计算梯度\n",
    "    def gradient(self, x, y):\n",
    "        z = self.forward(x)\n",
    "        error = z - y\n",
    "        gradient_w = (np.dot(x.T, error) + self.lambda_reg * self.w) / x.shape[0]  #\n",
    "        gradient_b = np.mean(error)\n",
    "        return gradient_w, gradient_b\n",
    "    \n",
    "    # 计算R方\n",
    "    def r_squared(self, x, y):\n",
    "        z = self.forward(x)\n",
    "        SS_res = np.sum((z - y) ** 2)  # 残差平方和\n",
    "        SS_tot = np.sum((y - np.mean(y)) ** 2)  # 总平方和\n",
    "        r2 = 1 - SS_res / SS_tot\n",
    "        return r2\n",
    "\n",
    "    # 更新参数\n",
    "    def update(self, gradient_w, gradient_b, eta=0.01):\n",
    "        self.w -= eta * gradient_w\n",
    "        self.b -= eta * gradient_b\n",
    "\n",
    "    # 训练模型\n",
    "    def train(self, x, y, iterations=100, eta=0.01, lambda_reg=1):\n",
    "        losses = []\n",
    "        for i in range(iterations):\n",
    "            z = self.forward(x)\n",
    "            L = self.loss(z, y)\n",
    "            gradient_w, gradient_b = self.gradient(x, y)\n",
    "            self.update(gradient_w, gradient_b, eta)\n",
    "            losses.append(L)\n",
    "            if (i + 1) % 1000 == 0:\n",
    "                print('iter {}, loss {}'.format(i, L))\n",
    "                r2_test = self.r_squared(x, y)\n",
    "                print('R方: {}'.format(r2_test))\n",
    "        return losses, self.w, self.b"
   ]
  },
  {
   "cell_type": "markdown",
   "id": "2bb66fd7",
   "metadata": {},
   "source": [
    "- 特别备注：正则化，防止模型过拟合"
   ]
  },
  {
   "cell_type": "code",
   "execution_count": null,
   "id": "a9c99212",
   "metadata": {},
   "outputs": [],
   "source": [
    "# L2正则化\n",
    "def loss_with_reg(self, z, y):\n",
    "    cost = np.mean((z - y) ** 2)\n",
    "    # Calculate L2 regularization term\n",
    "    # 损失加上参数绝平方的总和乘以正则化系数系数的积\n",
    "    reg = self.lambda_reg * np.sum(self.w ** 2)\n",
    "    return cost + reg\n",
    "\n",
    "# L1正则化\n",
    "def loss_with_reg(self, z, y):\n",
    "    cost = np.mean((z - y) ** 2)\n",
    "    # 损失加上参数绝对值的总和乘以正则化系数系数的积\n",
    "    reg = self.lambda_reg * np.sum(np.abs(self.w)) \n",
    "    return cost + reg"
   ]
  },
  {
   "cell_type": "markdown",
   "id": "01c5acbf",
   "metadata": {},
   "source": [
    "### 执行代码"
   ]
  },
  {
   "cell_type": "code",
   "execution_count": null,
   "id": "3a1d7899",
   "metadata": {},
   "outputs": [],
   "source": [
    "net = Network(x_train.shape[1], lambda_reg=0.1)\n",
    "num_iterations = 10000\n",
    "losses, fw, fb= net.train(x_train, y_train, iterations=num_iterations, eta=0.01)\n",
    "\n",
    "\n",
    "# 在测试集上验证模型性能\n",
    "predictions_test = np.dot(x_test, fw) + fb\n",
    "test_loss = np.mean((predictions_test - y_test) ** 2)\n",
    "r2_test = net.r_squared(x_test, y_test)\n",
    "print('测试集损失:', test_loss)\n",
    "print('测试集R方:', r2_test)\n",
    "\n",
    "# 使用最小二乘法训练模型\n",
    "net.train_with_normal_equation(x_train, y_train)\n",
    "train_loss = net.loss(net.forward(x_train), y_train)\n",
    "train_r2 = net.r_squared(x_train, y_train)\n",
    "test_r2_ne = net.r_squared(x_test, y_test)\n"
   ]
  },
  {
   "cell_type": "markdown",
   "id": "c9e7042c",
   "metadata": {},
   "source": [
    "### 可视化"
   ]
  },
  {
   "cell_type": "code",
   "execution_count": null,
   "id": "275dd56c",
   "metadata": {},
   "outputs": [],
   "source": [
    "plt.figure(figsize=(8, 8), num=\"损失函数\")\n",
    "plot_x = np.arange(num_iterations)\n",
    "plot_y = np.array(losses)\n",
    "plt.plot(plot_x, plot_y)\n",
    "plt.ylabel(\"损失率\", fontsize=15)\n",
    "plt.title(\"损失率变化图\", fontsize=25)\n",
    "plt.show()"
   ]
  }
 ],
 "metadata": {
  "kernelspec": {
   "display_name": "Python 3 (ipykernel)",
   "language": "python",
   "name": "python3"
  },
  "language_info": {
   "codemirror_mode": {
    "name": "ipython",
    "version": 3
   },
   "file_extension": ".py",
   "mimetype": "text/x-python",
   "name": "python",
   "nbconvert_exporter": "python",
   "pygments_lexer": "ipython3",
   "version": "3.11.5"
  }
 },
 "nbformat": 4,
 "nbformat_minor": 5
}
